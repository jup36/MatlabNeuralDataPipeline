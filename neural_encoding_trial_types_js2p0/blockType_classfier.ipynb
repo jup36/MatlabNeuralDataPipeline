{
 "cells": [
  {
   "cell_type": "code",
   "execution_count": 452,
   "id": "5ea357d6-950c-4a49-91de-1a2664a1304e",
   "metadata": {},
   "outputs": [],
   "source": [
    "import os\n",
    "import numpy as np\n",
    "import pandas as pd\n",
    "import matplotlib.pyplot as plt\n",
    "%matplotlib inline\n",
    "pd.options.mode.chained_assignment = None  # default='warn'\n",
    "from util import MatfileIO, Bunch\n",
    "from preprocessing import GaussianSmoothing\n",
    "\n",
    "from sklearn.model_selection import StratifiedKFold\n",
    "from sklearn.ensemble import RandomForestClassifier\n",
    "from sklearn.metrics import classification_report"
   ]
  },
  {
   "cell_type": "code",
   "execution_count": 342,
   "id": "036f6416-9651-4751-84da-69fcb7e560d4",
   "metadata": {},
   "outputs": [],
   "source": [
    "# Preprocessing\n",
    "def preprocess_unitTimeBin(unitTimeBin, bin_id, g_sigma, g_length, g_decimal_out): \n",
    "    utb = unitTimeBin[:, bin_id]\n",
    "    sm_obj = GaussianSmoothing(utb, sigma=g_sigma, length=g_length, axis='row', decimal_out=g_decimal_out)\n",
    "    conv = sm_obj.conv()\n",
    "    return conv # conv.flatten()"
   ]
  },
  {
   "cell_type": "code",
   "execution_count": 296,
   "id": "a311c4be-db9f-41af-88e8-ea41b1441cec",
   "metadata": {},
   "outputs": [],
   "source": [
    "def get_params():\n",
    "    # Preprocessing - params\n",
    "    p = Bunch()\n",
    "    p.bin_width = 0.05\n",
    "    p.time_win = [-1, 2]\n",
    "    p.time_bins = np.arange(p.time_win[0], p.time_win[1], p.bin_width)\n",
    "    p.bin_I = p.time_bins <= 1  # to include pre-reach epoch only\n",
    "    p.g_sigma = 5\n",
    "    p.g_length = 20\n",
    "    p.g_decimal_out = 3\n",
    "    p.bl_I = Bunch()\n",
    "    p.bl_I['1'], p.bl_I['5'] = 'lelo', 'lelo'  # left/low\n",
    "    p.bl_I['2'], p.bl_I['6'] = 'lehi', 'lehi'  # left/high\n",
    "    p.bl_I['3'], p.bl_I['7'] = 'rilo', 'rilo'  # right/low\n",
    "    p.bl_I['4'], p.bl_I['8'] = 'rihi', 'rihi'  # right/high\n",
    "    return p"
   ]
  },
  {
   "cell_type": "markdown",
   "id": "15ad4842-7e9e-41bd-9605-8bfd894227f7",
   "metadata": {},
   "source": [
    "### Load and extract data"
   ]
  },
  {
   "cell_type": "code",
   "execution_count": 271,
   "id": "b5f08436-7e15-4f42-bd7f-23d9cc94d3c7",
   "metadata": {},
   "outputs": [],
   "source": [
    "filepath = \"/Volumes/dudmanlab/junchol/js2p0/WR40_082019/Matfiles\"\n",
    "io_cls = MatfileIO(filepath)\n",
    "df = io_cls.extract_dataframe()\n",
    "df['blockNum'] = df.blockNum.apply(lambda x: str(x)) "
   ]
  },
  {
   "cell_type": "code",
   "execution_count": 266,
   "id": "3ccc6943-71aa-4bf8-abfe-357b20392cd9",
   "metadata": {},
   "outputs": [
    {
     "data": {
      "text/html": [
       "<div>\n",
       "<style scoped>\n",
       "    .dataframe tbody tr th:only-of-type {\n",
       "        vertical-align: middle;\n",
       "    }\n",
       "\n",
       "    .dataframe tbody tr th {\n",
       "        vertical-align: top;\n",
       "    }\n",
       "\n",
       "    .dataframe thead th {\n",
       "        text-align: right;\n",
       "    }\n",
       "</style>\n",
       "<table border=\"1\" class=\"dataframe\">\n",
       "  <thead>\n",
       "    <tr style=\"text-align: right;\">\n",
       "      <th></th>\n",
       "      <th>blockNum</th>\n",
       "      <th>trialType</th>\n",
       "      <th>ctx</th>\n",
       "      <th>str</th>\n",
       "      <th>cg</th>\n",
       "    </tr>\n",
       "  </thead>\n",
       "  <tbody>\n",
       "    <tr>\n",
       "      <th>0</th>\n",
       "      <td>1</td>\n",
       "      <td>to</td>\n",
       "      <td>[[[[[0. 1. 1. 0. 0. 0. 0. 2. 2. 0. 0. 0. 0. 0....</td>\n",
       "      <td>[[[[[0. 0. 0. 0. 0. 0. 0. 0. 0. 0. 0. 0. 0. 0....</td>\n",
       "      <td>[[[[[0. 0. 0. 0. 0. 0. 0. 0. 0. 0. 0. 0. 0. 0....</td>\n",
       "    </tr>\n",
       "    <tr>\n",
       "      <th>1</th>\n",
       "      <td>1</td>\n",
       "      <td>to</td>\n",
       "      <td>[[[[[2. 2. 0. 2. 2. 5. 3. 3. 3. 3. 0. 1. 0. 0....</td>\n",
       "      <td>[[[[[0. 0. 0. 0. 0. 0. 0. 0. 0. 0. 0. 0. 0. 0....</td>\n",
       "      <td>[[[[[0. 0. 0. 0. 0. 0. 0. 0. 0. 0. 0. 0. 0. 0....</td>\n",
       "    </tr>\n",
       "    <tr>\n",
       "      <th>2</th>\n",
       "      <td>1</td>\n",
       "      <td>sp</td>\n",
       "      <td>[[[[[0. 0. 0. 0. 0. 0. 0. 0. 0. 0. 0. 0. 0. 0....</td>\n",
       "      <td>[[[[[0. 0. 0. 0. 0. 0. 0. 0. 0. 0. 0. 0. 0. 0....</td>\n",
       "      <td>[[[[[0. 0. 1. 0. 1. 0. 0. 0. 0. 0. 0. 0. 0. 0....</td>\n",
       "    </tr>\n",
       "    <tr>\n",
       "      <th>3</th>\n",
       "      <td>1</td>\n",
       "      <td>sp</td>\n",
       "      <td>[[[[[0. 0. 0. 0. 0. 0. 0. 0. 0. 0. 0. 0. 0. 0....</td>\n",
       "      <td>[[[[[0. 0. 0. 0. 0. 0. 0. 0. 0. 0. 0. 0. 0. 0....</td>\n",
       "      <td>[[[[[0. 0. 0. 0. 0. 0. 0. 0. 0. 0. 0. 1. 0. 0....</td>\n",
       "    </tr>\n",
       "    <tr>\n",
       "      <th>4</th>\n",
       "      <td>1</td>\n",
       "      <td>sp</td>\n",
       "      <td>[[[[[0. 0. 0. 0. 0. 0. 0. 0. 0. 0. 0. 0. 0. 0....</td>\n",
       "      <td>[[[[[0. 0. 0. 1. 0. 1. 0. 0. 0. 0. 0. 0. 0. 0....</td>\n",
       "      <td>[[[[[0. 0. 0. 0. 0. 0. 0. 0. 0. 0. 0. 0. 0. 0....</td>\n",
       "    </tr>\n",
       "  </tbody>\n",
       "</table>\n",
       "</div>"
      ],
      "text/plain": [
       "  blockNum trialType                                                ctx  \\\n",
       "0        1        to  [[[[[0. 1. 1. 0. 0. 0. 0. 2. 2. 0. 0. 0. 0. 0....   \n",
       "1        1        to  [[[[[2. 2. 0. 2. 2. 5. 3. 3. 3. 3. 0. 1. 0. 0....   \n",
       "2        1        sp  [[[[[0. 0. 0. 0. 0. 0. 0. 0. 0. 0. 0. 0. 0. 0....   \n",
       "3        1        sp  [[[[[0. 0. 0. 0. 0. 0. 0. 0. 0. 0. 0. 0. 0. 0....   \n",
       "4        1        sp  [[[[[0. 0. 0. 0. 0. 0. 0. 0. 0. 0. 0. 0. 0. 0....   \n",
       "\n",
       "                                                 str  \\\n",
       "0  [[[[[0. 0. 0. 0. 0. 0. 0. 0. 0. 0. 0. 0. 0. 0....   \n",
       "1  [[[[[0. 0. 0. 0. 0. 0. 0. 0. 0. 0. 0. 0. 0. 0....   \n",
       "2  [[[[[0. 0. 0. 0. 0. 0. 0. 0. 0. 0. 0. 0. 0. 0....   \n",
       "3  [[[[[0. 0. 0. 0. 0. 0. 0. 0. 0. 0. 0. 0. 0. 0....   \n",
       "4  [[[[[0. 0. 0. 1. 0. 1. 0. 0. 0. 0. 0. 0. 0. 0....   \n",
       "\n",
       "                                                  cg  \n",
       "0  [[[[[0. 0. 0. 0. 0. 0. 0. 0. 0. 0. 0. 0. 0. 0....  \n",
       "1  [[[[[0. 0. 0. 0. 0. 0. 0. 0. 0. 0. 0. 0. 0. 0....  \n",
       "2  [[[[[0. 0. 1. 0. 1. 0. 0. 0. 0. 0. 0. 0. 0. 0....  \n",
       "3  [[[[[0. 0. 0. 0. 0. 0. 0. 0. 0. 0. 0. 1. 0. 0....  \n",
       "4  [[[[[0. 0. 0. 0. 0. 0. 0. 0. 0. 0. 0. 0. 0. 0....  "
      ]
     },
     "execution_count": 266,
     "metadata": {},
     "output_type": "execute_result"
    }
   ],
   "source": [
    "df.head()"
   ]
  },
  {
   "cell_type": "code",
   "execution_count": 4,
   "id": "7c871355-4f06-4399-87e9-e29646a057b8",
   "metadata": {},
   "outputs": [
    {
     "name": "stdout",
     "output_type": "stream",
     "text": [
      "<class 'pandas.core.frame.DataFrame'>\n",
      "RangeIndex: 140 entries, 0 to 139\n",
      "Data columns (total 5 columns):\n",
      " #   Column     Non-Null Count  Dtype \n",
      "---  ------     --------------  ----- \n",
      " 0   blockNum   140 non-null    int8  \n",
      " 1   trialType  140 non-null    object\n",
      " 2   ctx        140 non-null    object\n",
      " 3   str        140 non-null    object\n",
      " 4   cg         140 non-null    object\n",
      "dtypes: int8(1), object(4)\n",
      "memory usage: 4.6+ KB\n"
     ]
    }
   ],
   "source": [
    "df.info()"
   ]
  },
  {
   "cell_type": "code",
   "execution_count": 344,
   "id": "d9ba0537-94b3-4b4f-8cd3-4ae00f1881cb",
   "metadata": {},
   "outputs": [
    {
     "name": "stderr",
     "output_type": "stream",
     "text": [
      "<ipython-input-344-5e017def2398>:2: FutureWarning: elementwise comparison failed; returning scalar instead, but in the future will perform elementwise comparison\n",
      "  success_I = df.trialType.apply(lambda x: x == 'sp')\n"
     ]
    }
   ],
   "source": [
    "# Use successful trials only\n",
    "success_I = df.trialType.apply(lambda x: x == 'sp')\n",
    "df_s = df.loc[success_I, :]"
   ]
  },
  {
   "cell_type": "markdown",
   "id": "a254b57c-3444-4d52-a9d9-546144ac5c36",
   "metadata": {},
   "source": [
    "### Neural Data\n",
    "- df rows correspond to trials. \n",
    "- df columns correspond to different variables. \n",
    "    - blockNum: block IDs. \n",
    "    - trialType: trial types.  \n",
    "        - 'to': timeout. \n",
    "        - 'sp': successful pull. \n",
    "        - 'ps': push.  \n",
    "        - 'pmpp': premature pull & push. \n",
    "- df.ctx, df.str, df.cg contain binned spike counts per trial.\n",
    "    - Each np.matrix is organized as # neurons by # time bins. \n",
    "    - By default, each np.matrix spans 3 s epoch (1 s pre and 2 s post event to which time bins are aligned) with the bin width of 50 ms (60 bins)."
   ]
  },
  {
   "cell_type": "markdown",
   "id": "624c8c15-b908-487f-ba42-6e3e3baffa34",
   "metadata": {},
   "source": [
    "### Preprocessing"
   ]
  },
  {
   "cell_type": "code",
   "execution_count": 254,
   "id": "d39e54ad-79eb-4ad8-97c2-7b69998f7a4d",
   "metadata": {},
   "outputs": [],
   "source": [
    "# Temporal information of neural data\n",
    "p = get_params()"
   ]
  },
  {
   "cell_type": "code",
   "execution_count": 345,
   "id": "b260de76-875f-495d-ba89-3308c03406df",
   "metadata": {},
   "outputs": [],
   "source": [
    "df_s.loc[:, 'ctx'] = df_s.ctx.apply(lambda x: preprocess_unitTimeBin(x, p.bin_I, p.g_sigma, p.g_length, p.g_decimal_out))  \n",
    "df_s.loc[:, 'str'] = df_s.str.apply(lambda x: preprocess_unitTimeBin(x, p.bin_I, p.g_sigma, p.g_length, p.g_decimal_out))\n",
    "df_s.loc[:, 'cg'] = df_s.cg.apply(lambda x: preprocess_unitTimeBin(x, p.bin_I, p.g_sigma, p.g_length, p.g_decimal_out)) \n",
    "\n",
    "df_s['bl_type'] = df_s.blockNum.apply(lambda x: p.bl_I[x])"
   ]
  },
  {
   "cell_type": "code",
   "execution_count": 258,
   "id": "8274e405-44f7-40af-aa0b-12b042c9e77e",
   "metadata": {},
   "outputs": [
    {
     "name": "stdout",
     "output_type": "stream",
     "text": [
      "0.5238\n",
      "              precision    recall  f1-score   support\n",
      "\n",
      "        lehi       1.00      0.33      0.50         6\n",
      "        leli       0.50      1.00      0.67         8\n",
      "        rihi       1.00      0.25      0.40         4\n",
      "        rili       0.00      0.00      0.00         3\n",
      "\n",
      "    accuracy                           0.52        21\n",
      "   macro avg       0.62      0.40      0.39        21\n",
      "weighted avg       0.67      0.52      0.47        21\n",
      "\n",
      "0.5714\n",
      "              precision    recall  f1-score   support\n",
      "\n",
      "        lehi       0.75      0.60      0.67         5\n",
      "        leli       0.54      0.88      0.67         8\n",
      "        rihi       0.00      0.00      0.00         4\n",
      "        rili       0.50      0.50      0.50         4\n",
      "\n",
      "    accuracy                           0.57        21\n",
      "   macro avg       0.45      0.49      0.46        21\n",
      "weighted avg       0.48      0.57      0.51        21\n",
      "\n"
     ]
    },
    {
     "name": "stderr",
     "output_type": "stream",
     "text": [
      "/Users/parkj/opt/anaconda3/envs/pync/lib/python3.9/site-packages/sklearn/metrics/_classification.py:1327: UndefinedMetricWarning: Precision and F-score are ill-defined and being set to 0.0 in labels with no predicted samples. Use `zero_division` parameter to control this behavior.\n",
      "  _warn_prf(average, modifier, msg_start, len(result))\n",
      "/Users/parkj/opt/anaconda3/envs/pync/lib/python3.9/site-packages/sklearn/metrics/_classification.py:1327: UndefinedMetricWarning: Precision and F-score are ill-defined and being set to 0.0 in labels with no predicted samples. Use `zero_division` parameter to control this behavior.\n",
      "  _warn_prf(average, modifier, msg_start, len(result))\n",
      "/Users/parkj/opt/anaconda3/envs/pync/lib/python3.9/site-packages/sklearn/metrics/_classification.py:1327: UndefinedMetricWarning: Precision and F-score are ill-defined and being set to 0.0 in labels with no predicted samples. Use `zero_division` parameter to control this behavior.\n",
      "  _warn_prf(average, modifier, msg_start, len(result))\n",
      "/Users/parkj/opt/anaconda3/envs/pync/lib/python3.9/site-packages/sklearn/metrics/_classification.py:1327: UndefinedMetricWarning: Precision and F-score are ill-defined and being set to 0.0 in labels with no predicted samples. Use `zero_division` parameter to control this behavior.\n",
      "  _warn_prf(average, modifier, msg_start, len(result))\n",
      "/Users/parkj/opt/anaconda3/envs/pync/lib/python3.9/site-packages/sklearn/metrics/_classification.py:1327: UndefinedMetricWarning: Precision and F-score are ill-defined and being set to 0.0 in labels with no predicted samples. Use `zero_division` parameter to control this behavior.\n",
      "  _warn_prf(average, modifier, msg_start, len(result))\n",
      "/Users/parkj/opt/anaconda3/envs/pync/lib/python3.9/site-packages/sklearn/metrics/_classification.py:1327: UndefinedMetricWarning: Precision and F-score are ill-defined and being set to 0.0 in labels with no predicted samples. Use `zero_division` parameter to control this behavior.\n",
      "  _warn_prf(average, modifier, msg_start, len(result))\n"
     ]
    },
    {
     "name": "stdout",
     "output_type": "stream",
     "text": [
      "0.5238\n",
      "              precision    recall  f1-score   support\n",
      "\n",
      "        lehi       0.40      0.80      0.53         5\n",
      "        leli       0.67      0.75      0.71         8\n",
      "        rihi       1.00      0.25      0.40         4\n",
      "        rili       0.00      0.00      0.00         4\n",
      "\n",
      "    accuracy                           0.52        21\n",
      "   macro avg       0.52      0.45      0.41        21\n",
      "weighted avg       0.54      0.52      0.47        21\n",
      "\n",
      "0.4762\n",
      "              precision    recall  f1-score   support\n",
      "\n",
      "        lehi       0.75      0.60      0.67         5\n",
      "        leli       0.40      0.25      0.31         8\n",
      "        rihi       0.33      0.75      0.46         4\n",
      "        rili       0.67      0.50      0.57         4\n",
      "\n",
      "    accuracy                           0.48        21\n",
      "   macro avg       0.54      0.53      0.50        21\n",
      "weighted avg       0.52      0.48      0.47        21\n",
      "\n",
      "0.5238\n",
      "              precision    recall  f1-score   support\n",
      "\n",
      "        lehi       1.00      0.40      0.57         5\n",
      "        leli       0.46      0.75      0.57         8\n",
      "        rihi       0.40      0.50      0.44         4\n",
      "        rili       1.00      0.25      0.40         4\n",
      "\n",
      "    accuracy                           0.52        21\n",
      "   macro avg       0.72      0.47      0.50        21\n",
      "weighted avg       0.68      0.52      0.51        21\n",
      "\n"
     ]
    }
   ],
   "source": [
    "clf = RandomForestClassifier(n_estimators=1000, max_depth=100, random_state=42)\n",
    "\n",
    "X = np.vstack(df_s.cg.to_numpy())\n",
    "y = df_s.bl_type.to_numpy()\n",
    "\n",
    "skf = StratifiedKFold(n_splits=5)\n",
    "\n",
    "for train_idx, test_idx in skf.split(X, y):\n",
    "    clf.fit(X[train_idx, :], y[train_idx])\n",
    "    \n",
    "    # prediction on test set\n",
    "    y_pred = clf.predict(X[test_idx, :])\n",
    "    print(np.around(clf.score(X[test_idx, :], y[test_idx]), 4))\n",
    "    \n",
    "    report = classification_report(y[test_idx], y_pred, output_dict=True)\n",
    "    df_report = pd.DataFrame(report).transpose()"
   ]
  },
  {
   "cell_type": "code",
   "execution_count": 91,
   "id": "043e7cee-d2a7-4d2d-8e2c-f5cfbf814b02",
   "metadata": {},
   "outputs": [],
   "source": [
    "train_bl_type = df_s.iloc[train_index]['bl_type']"
   ]
  },
  {
   "cell_type": "code",
   "execution_count": 95,
   "id": "fe9d7ab7-dd7b-4706-929a-7df172d0343e",
   "metadata": {},
   "outputs": [
    {
     "data": {
      "text/plain": [
       "count       70\n",
       "unique       4\n",
       "top       leli\n",
       "freq        27\n",
       "Name: bl_type, dtype: object"
      ]
     },
     "execution_count": 95,
     "metadata": {},
     "output_type": "execute_result"
    }
   ],
   "source": [
    "train_bl_type.describe()"
   ]
  },
  {
   "cell_type": "code",
   "execution_count": 98,
   "id": "e001a484-af2e-4a59-ad35-95dd46c2ec28",
   "metadata": {},
   "outputs": [
    {
     "data": {
      "text/plain": [
       "2     True\n",
       "3     True\n",
       "4     True\n",
       "5     True\n",
       "6     True\n",
       "      ... \n",
       "91    True\n",
       "92    True\n",
       "93    True\n",
       "94    True\n",
       "95    True\n",
       "Name: bl_type, Length: 70, dtype: bool"
      ]
     },
     "execution_count": 98,
     "metadata": {},
     "output_type": "execute_result"
    }
   ],
   "source": [
    "train_bl_type == 'leli'"
   ]
  },
  {
   "cell_type": "code",
   "execution_count": null,
   "id": "12350a3e-24ff-4bc3-8561-d29b6d5033ca",
   "metadata": {},
   "outputs": [],
   "source": []
  }
 ],
 "metadata": {
  "kernelspec": {
   "display_name": "Python 3 (ipykernel)",
   "language": "python",
   "name": "python3"
  },
  "language_info": {
   "codemirror_mode": {
    "name": "ipython",
    "version": 3
   },
   "file_extension": ".py",
   "mimetype": "text/x-python",
   "name": "python",
   "nbconvert_exporter": "python",
   "pygments_lexer": "ipython3",
   "version": "3.8.17"
  }
 },
 "nbformat": 4,
 "nbformat_minor": 5
}
